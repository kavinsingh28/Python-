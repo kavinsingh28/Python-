{
 "cells": [
  {
   "cell_type": "code",
   "execution_count": 6,
   "metadata": {},
   "outputs": [
    {
     "name": "stdout",
     "output_type": "stream",
     "text": [
      "[2, 3, 5, 6, 7, 8, 17, 23, 63]\n"
     ]
    }
   ],
   "source": [
    "def sorte(l):\n",
    "    for i in range(len(l)-1,0,-1):\n",
    "        for j in range(i):\n",
    "            if(l[j]>l[j+1]):\n",
    "                temp=l[j]\n",
    "                l[j]=l[j+1]\n",
    "                l[j+1]=temp\n",
    "l=[8,5,3,6,7,2,63,17,23]\n",
    "sorte(l)\n",
    "print(l)"
   ]
  },
  {
   "cell_type": "code",
   "execution_count": null,
   "metadata": {},
   "outputs": [],
   "source": []
  }
 ],
 "metadata": {
  "kernelspec": {
   "display_name": "Python 3",
   "language": "python",
   "name": "python3"
  },
  "language_info": {
   "codemirror_mode": {
    "name": "ipython",
    "version": 3
   },
   "file_extension": ".py",
   "mimetype": "text/x-python",
   "name": "python",
   "nbconvert_exporter": "python",
   "pygments_lexer": "ipython3",
   "version": "3.8.1"
  }
 },
 "nbformat": 4,
 "nbformat_minor": 4
}

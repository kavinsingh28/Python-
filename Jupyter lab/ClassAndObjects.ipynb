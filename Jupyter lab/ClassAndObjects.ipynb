{
 "cells": [
  {
   "cell_type": "code",
   "execution_count": 11,
   "metadata": {},
   "outputs": [
    {
     "name": "stdout",
     "output_type": "stream",
     "text": [
      "1TB,8GB DDR4,AMD Turion\n"
     ]
    }
   ],
   "source": [
    "class Computer:\n",
    "    def Config(self):\n",
    "        print(\"1TB,8GB DDR4,AMD Turion\")\n",
    "com1=Computer()\n",
    "Computer.Config()"
   ]
  },
  {
   "cell_type": "code",
   "execution_count": 7,
   "metadata": {},
   "outputs": [
    {
     "name": "stdout",
     "output_type": "stream",
     "text": [
      "1TB,8GB DDR4,AMD Turion\n",
      "Testing the Output\n",
      "1TB,8GB DDR4,AMD Turion\n",
      "Testing the Output\n"
     ]
    }
   ],
   "source": [
    "class Computer:\n",
    "    def Config(self):\n",
    "        print(\"1TB,8GB DDR4,AMD Turion\")\n",
    "    def Un(self):\n",
    "        print(\"Testing the Output\")\n",
    "com1=Computer()\n",
    "com2=Computer()\n",
    "Computer.Config(com1)\n",
    "Computer.Un(com2)\n",
    "com1.Config()\n",
    "com2.Un()"
   ]
  },
  {
   "cell_type": "code",
   "execution_count": null,
   "metadata": {},
   "outputs": [],
   "source": []
  }
 ],
 "metadata": {
  "kernelspec": {
   "display_name": "Python 3",
   "language": "python",
   "name": "python3"
  },
  "language_info": {
   "codemirror_mode": {
    "name": "ipython",
    "version": 3
   },
   "file_extension": ".py",
   "mimetype": "text/x-python",
   "name": "python",
   "nbconvert_exporter": "python",
   "pygments_lexer": "ipython3",
   "version": "3.8.1"
  }
 },
 "nbformat": 4,
 "nbformat_minor": 4
}

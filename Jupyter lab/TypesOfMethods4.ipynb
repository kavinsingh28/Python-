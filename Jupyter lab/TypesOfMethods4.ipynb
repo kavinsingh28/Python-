{
 "cells": [
  {
   "cell_type": "code",
   "execution_count": 6,
   "metadata": {},
   "outputs": [
    {
     "name": "stdout",
     "output_type": "stream",
     "text": [
      "43.0\n",
      "44.333333333333336\n"
     ]
    }
   ],
   "source": [
    "class student:\n",
    "    school=\"Teleusko\"\n",
    "    \n",
    "    def __init__(self,m1,m2,m3):\n",
    "        self.m1=m1\n",
    "        self.m2=m2\n",
    "        self.m3=m3  \n",
    "    def avg(self): #instance Method bcoz we are passing self i.e it belongs to a particular object\n",
    "        return ((self.m1+self.m2+self.m3)/3)\n",
    "    def get_m1(self): # for getting the value of m1\n",
    "        return self.m1\n",
    "        \n",
    "    def set_m1(self,value):\n",
    "        self.m1=value\n",
    "        \n",
    "s1=student(34,63,32)\n",
    "s2=student(89,32,12)\n",
    "print(s1.avg())\n",
    "print(s2.avg())"
   ]
  },
  {
   "cell_type": "code",
   "execution_count": 9,
   "metadata": {},
   "outputs": [
    {
     "name": "stdout",
     "output_type": "stream",
     "text": [
      "43.0\n",
      "44.333333333333336\n",
      "Teleusko\n"
     ]
    }
   ],
   "source": [
    "class student:\n",
    "    school=\"Teleusko\"\n",
    "    \n",
    "    def __init__(self,m1,m2,m3):\n",
    "        self.m1=m1\n",
    "        self.m2=m2\n",
    "        self.m3=m3  \n",
    "    def avg(self):\n",
    "        return ((self.m1+self.m2+self.m3)/3)\n",
    "    @classmethod\n",
    "    def info(cls):\n",
    "        return cls.school\n",
    "        \n",
    "s1=student(34,63,32)\n",
    "s2=student(89,32,12)\n",
    "print(s1.avg())\n",
    "print(s2.avg())\n",
    "print(student.info())"
   ]
  },
  {
   "cell_type": "code",
   "execution_count": 17,
   "metadata": {},
   "outputs": [
    {
     "name": "stdout",
     "output_type": "stream",
     "text": [
      "43.0\n",
      "44.333333333333336\n",
      "Teleusko\n",
      "This is student Class..\n"
     ]
    }
   ],
   "source": [
    "class student:\n",
    "    school=\"Teleusko\"\n",
    "    \n",
    "    def __init__(self,m1,m2,m3):\n",
    "        self.m1=m1\n",
    "        self.m2=m2\n",
    "        self.m3=m3  \n",
    "    def avg(self):\n",
    "        return ((self.m1+self.m2+self.m3)/3)\n",
    "    @classmethod\n",
    "    def getschool(cls):\n",
    "        return cls.school\n",
    "    \n",
    "    def info():\n",
    "        print(\"This is student Class..\")\n",
    "s1=student(34,63,32)\n",
    "s2=student(89,32,12)\n",
    "print(s1.avg())\n",
    "print(s2.avg())\n",
    "print(student.getschool())\n",
    "student.info()"
   ]
  },
  {
   "cell_type": "code",
   "execution_count": null,
   "metadata": {},
   "outputs": [],
   "source": []
  },
  {
   "cell_type": "code",
   "execution_count": null,
   "metadata": {},
   "outputs": [],
   "source": []
  }
 ],
 "metadata": {
  "kernelspec": {
   "display_name": "Python 3",
   "language": "python",
   "name": "python3"
  },
  "language_info": {
   "codemirror_mode": {
    "name": "ipython",
    "version": 3
   },
   "file_extension": ".py",
   "mimetype": "text/x-python",
   "name": "python",
   "nbconvert_exporter": "python",
   "pygments_lexer": "ipython3",
   "version": "3.8.1"
  }
 },
 "nbformat": 4,
 "nbformat_minor": 4
}

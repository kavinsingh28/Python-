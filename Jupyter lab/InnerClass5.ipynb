{
 "cells": [
  {
   "cell_type": "code",
   "execution_count": 16,
   "metadata": {},
   "outputs": [
    {
     "name": "stdout",
     "output_type": "stream",
     "text": [
      "Kavin 2\n",
      "Marvin 5\n",
      "HP\n",
      "HP i5 8\n",
      "None\n",
      "HP i5 8\n",
      "None\n"
     ]
    }
   ],
   "source": [
    "class student():\n",
    "    def __init__(self,name,rollno):\n",
    "        self.name=name\n",
    "        self.rollno=rollno\n",
    "        self.lap=self.Laptop()# Object of laptop inside student class Or Outer Class\n",
    "    def show(self):\n",
    "        print(self.name,self.rollno)\n",
    "        #self.Lap.show()\n",
    "    class Laptop:\n",
    "        def __init__(self):\n",
    "            self.brand='HP'\n",
    "            self.cpu='i5'\n",
    "            self.ram=8\n",
    "        def show(self):\n",
    "            print(self.brand,self.cpu,self.ram)\n",
    "        \n",
    "s1=student('Kavin',2)\n",
    "s2=student(\"Marvin\",5)\n",
    "s1.show()\n",
    "s2.show()\n",
    "print(s1.lap.brand)\n",
    "#OR\n",
    "lap1=s1.lap\n",
    "lap2=s2.lap\n",
    "print(lap1.show())\n",
    "print(lap2.show())\n"
   ]
  },
  {
   "cell_type": "code",
   "execution_count": 25,
   "metadata": {},
   "outputs": [
    {
     "name": "stdout",
     "output_type": "stream",
     "text": [
      "Kavin 2\n",
      "HP i5 8\n"
     ]
    }
   ],
   "source": [
    "class student():\n",
    "    def __init__(self,name,rollno):\n",
    "        self.name=name\n",
    "        self.rollno=rollno\n",
    "        self.lap=self.Laptop()# Object of laptop inside student class Or Outer Class\n",
    "    def show(self):\n",
    "        print(self.name,self.rollno)\n",
    "        self.lap.show()\n",
    "    class Laptop:\n",
    "        def __init__(self):\n",
    "            self.brand='HP'\n",
    "            self.cpu='i5'\n",
    "            self.ram=8\n",
    "        def show(self):\n",
    "            print(self.brand,self.cpu,self.ram)\n",
    "        \n",
    "s1=student('Kavin',2)\n",
    "s2=student(\"Marvin\",5)\n",
    "s1.show()\n",
    "#s2.show()\n",
    "#print(s1.lap.brand)\n",
    "#OR\n",
    "#lap1=s1.lap\n",
    "#lap2=s2.lap\n",
    "#print(lap1.show())\n",
    "#print(lap2.show())\n"
   ]
  },
  {
   "cell_type": "code",
   "execution_count": null,
   "metadata": {},
   "outputs": [],
   "source": []
  }
 ],
 "metadata": {
  "kernelspec": {
   "display_name": "Python 3",
   "language": "python",
   "name": "python3"
  },
  "language_info": {
   "codemirror_mode": {
    "name": "ipython",
    "version": 3
   },
   "file_extension": ".py",
   "mimetype": "text/x-python",
   "name": "python",
   "nbconvert_exporter": "python",
   "pygments_lexer": "ipython3",
   "version": "3.8.1"
  }
 },
 "nbformat": 4,
 "nbformat_minor": 4
}

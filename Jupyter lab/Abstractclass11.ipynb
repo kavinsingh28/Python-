{
 "cells": [
  {
   "cell_type": "code",
   "execution_count": null,
   "metadata": {},
   "outputs": [],
   "source": [
    "#Creating abstract classes and methods\n",
    "class Computer:\n",
    "    def process(self):\n",
    "        pass           #The method which has only declaration and no defition is termed as abstract method\n",
    "    "
   ]
  },
  {
   "cell_type": "code",
   "execution_count": 14,
   "metadata": {},
   "outputs": [
    {
     "name": "stdout",
     "output_type": "stream",
     "text": [
      "Its Running\n"
     ]
    }
   ],
   "source": [
    "#This is abstract class earlier one \n",
    "from abc import ABC, abstractmethod#abstractmethod\n",
    "class Computer(ABC): #by ABC it become subclass of ABC and it becomes abstract class\n",
    "    @abstractmethod #It is decorator for creating abstract method\n",
    "    def process(self):\n",
    "        pass   \n",
    "class Laptop(Computer):\n",
    "    def process(self):\n",
    "        print(\"Its Running\")\n",
    "#a1=Computer()\n",
    "#a1.process()\n",
    "b1=Laptop()\n",
    "b1.process()"
   ]
  },
  {
   "cell_type": "code",
   "execution_count": 33,
   "metadata": {},
   "outputs": [
    {
     "name": "stdout",
     "output_type": "stream",
     "text": [
      "Solving Bugs\n",
      "Its Running\n",
      "Its Writing\n"
     ]
    }
   ],
   "source": [
    "#This is abstract class earlier one \n",
    "from abc import ABC, abstractmethod#abstractmethod\n",
    "class Computer(ABC): #by ABC it become subclass of ABC and it becomes abstract class\n",
    "    @abstractmethod #It is decorator for creating abstract method\n",
    "    def process(self):\n",
    "        pass   \n",
    "class Laptop(Computer):\n",
    "    def process(self):\n",
    "        print(\"Its Running\")\n",
    "class Programmer:\n",
    "    def work(self,com):\n",
    "        print(\"Solving Bugs\")\n",
    "        b1.process()\n",
    "class whiteboard:\n",
    "    def write(self):\n",
    "        print(\"Its Writing\")\n",
    "    \n",
    "#a1=Computer()\n",
    "#a1.process()\n",
    "b1=Laptop()\n",
    "b2=whiteboard()\n",
    "p1=Programmer()\n",
    "p1.work(b1)\n",
    "b2.write()\n",
    "\n"
   ]
  },
  {
   "cell_type": "code",
   "execution_count": null,
   "metadata": {},
   "outputs": [],
   "source": []
  },
  {
   "cell_type": "code",
   "execution_count": null,
   "metadata": {},
   "outputs": [],
   "source": []
  }
 ],
 "metadata": {
  "kernelspec": {
   "display_name": "Python 3",
   "language": "python",
   "name": "python3"
  },
  "language_info": {
   "codemirror_mode": {
    "name": "ipython",
    "version": 3
   },
   "file_extension": ".py",
   "mimetype": "text/x-python",
   "name": "python",
   "nbconvert_exporter": "python",
   "pygments_lexer": "ipython3",
   "version": "3.8.1"
  }
 },
 "nbformat": 4,
 "nbformat_minor": 4
}

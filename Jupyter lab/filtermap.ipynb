{
 "cells": [
  {
   "cell_type": "code",
   "execution_count": 5,
   "metadata": {},
   "outputs": [
    {
     "name": "stdout",
     "output_type": "stream",
     "text": [
      "[4, 2, 8, 66, 44, 64, 26, 8]\n"
     ]
    }
   ],
   "source": [
    "def is_even(n):\n",
    "    return n%2==0\n",
    "x=[3,4,2,5,8,23,5,7,23,66,23,67,89,44,64,26,8,9]\n",
    "evens=list(filter(is_even,x))\n",
    "print(evens)"
   ]
  },
  {
   "cell_type": "code",
   "execution_count": 6,
   "metadata": {},
   "outputs": [
    {
     "name": "stdout",
     "output_type": "stream",
     "text": [
      "[4, 2, 8, 66, 44, 64, 26, 8]\n"
     ]
    }
   ],
   "source": [
    "x=[3,4,2,5,8,23,5,7,23,66,23,67,89,44,64,26,8,9]\n",
    "evens=list(filter(lambda x:x%2==0,x))\n",
    "print(evens)"
   ]
  },
  {
   "cell_type": "code",
   "execution_count": 8,
   "metadata": {},
   "outputs": [
    {
     "name": "stdout",
     "output_type": "stream",
     "text": [
      "[8, 4, 16, 132, 88, 128, 52, 16]\n",
      "[4, 2, 8, 66, 44, 64, 26, 8]\n"
     ]
    }
   ],
   "source": [
    "x=[3,4,2,5,8,23,5,7,23,66,23,67,89,44,64,26,8,9]\n",
    "evens=list(filter(lambda x:x%2==0,x))\n",
    "doubles=list(map(lambda n:n*2,evens))\n",
    "print(doubles)\n",
    "print(evens)"
   ]
  },
  {
   "cell_type": "code",
   "execution_count": 10,
   "metadata": {},
   "outputs": [
    {
     "name": "stdout",
     "output_type": "stream",
     "text": [
      "[4, 8, 12]\n",
      "24\n"
     ]
    }
   ],
   "source": [
    "from functools import reduce\n",
    "x=[1,2,3,4,5,6]\n",
    "evens=list(filter(lambda x:x%2==0,x))\n",
    "doubles=list(map(lambda n:n*2,evens))\n",
    "print(doubles)\n",
    "sum=reduce(lambda a,b:a+b,doubles)\n",
    "print(sum)"
   ]
  },
  {
   "cell_type": "code",
   "execution_count": 11,
   "metadata": {},
   "outputs": [
    {
     "name": "stdout",
     "output_type": "stream",
     "text": [
      "[4, 8, 12]\n",
      "24\n"
     ]
    }
   ],
   "source": [
    "from functools import reduce\n",
    "def add(a,b):\n",
    "    return a+b\n",
    "x=[1,2,3,4,5,6]\n",
    "evens=list(filter(lambda x:x%2==0,x))\n",
    "doubles=list(map(lambda n:n*2,evens))\n",
    "print(doubles)\n",
    "sum=reduce(add,doubles)\n",
    "print(sum)"
   ]
  },
  {
   "cell_type": "code",
   "execution_count": null,
   "metadata": {},
   "outputs": [],
   "source": []
  }
 ],
 "metadata": {
  "kernelspec": {
   "display_name": "Python 3",
   "language": "python",
   "name": "python3"
  },
  "language_info": {
   "codemirror_mode": {
    "name": "ipython",
    "version": 3
   },
   "file_extension": ".py",
   "mimetype": "text/x-python",
   "name": "python",
   "nbconvert_exporter": "python",
   "pygments_lexer": "ipython3",
   "version": "3.8.1"
  }
 },
 "nbformat": 4,
 "nbformat_minor": 4
}

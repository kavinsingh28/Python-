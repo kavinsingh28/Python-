{
 "cells": [
  {
   "cell_type": "code",
   "execution_count": 7,
   "metadata": {},
   "outputs": [
    {
     "name": "stdin",
     "output_type": "stream",
     "text": [
      "Enter the Element to be Searched For 45\n"
     ]
    },
    {
     "name": "stdout",
     "output_type": "stream",
     "text": [
      "3\n"
     ]
    }
   ],
   "source": [
    "l=[1,2,453,45,75,38,9,8,7,3566,23,56,42,23,5,7,434,65,4,67,34,6,56]\n",
    "beg=0\n",
    "end=len(l)-1\n",
    "mid=((end+beg)//2)\n",
    "d=int(input(\"Enter the Element to be Searched For\"))\n",
    "for i in range(len(l)):\n",
    "    if(l[i]==d):\n",
    "        print(i)\n",
    "    elif(l[i]<d):\n",
    "        end=mid-1\n",
    "    elif (l[i]>d):\n",
    "        beg=mid+1\n",
    "    mid=(end+beg)//2"
   ]
  },
  {
   "cell_type": "code",
   "execution_count": null,
   "metadata": {},
   "outputs": [],
   "source": []
  }
 ],
 "metadata": {
  "kernelspec": {
   "display_name": "Python 3",
   "language": "python",
   "name": "python3"
  },
  "language_info": {
   "codemirror_mode": {
    "name": "ipython",
    "version": 3
   },
   "file_extension": ".py",
   "mimetype": "text/x-python",
   "name": "python",
   "nbconvert_exporter": "python",
   "pygments_lexer": "ipython3",
   "version": "3.8.1"
  }
 },
 "nbformat": 4,
 "nbformat_minor": 4
}

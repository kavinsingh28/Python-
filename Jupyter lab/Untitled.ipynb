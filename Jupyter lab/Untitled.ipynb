{
 "cells": [
  {
   "cell_type": "code",
   "execution_count": 3,
   "metadata": {},
   "outputs": [
    {
     "name": "stdin",
     "output_type": "stream",
     "text": [
      " 1\n",
      " 4\n",
      " 1 2 3 4\n"
     ]
    },
    {
     "name": "stdout",
     "output_type": "stream",
     "text": [
      "[1, 2, 3, 4]\n"
     ]
    }
   ],
   "source": [
    "t=int(input())\n",
    "for i in range(t):\n",
    "    l=[]\n",
    "    n=int(input())\n",
    "    l=list(map(int,input().split()))\n",
    "print(l)\n",
    "    "
   ]
  },
  {
   "cell_type": "code",
   "execution_count": 4,
   "metadata": {},
   "outputs": [
    {
     "name": "stdout",
     "output_type": "stream",
     "text": [
      "500000000\n"
     ]
    }
   ],
   "source": [
    "k=1000000000//2\n",
    "print(k)"
   ]
  },
  {
   "cell_type": "code",
   "execution_count": null,
   "metadata": {},
   "outputs": [],
   "source": [
    "import time\n",
    "start = time.time()\n",
    "for i in range(50000):\n",
    "    print(\"\",end=\"\")\n",
    "end = time.time()\n",
    "print(f\"Runtime of the program is {end - start}\")"
   ]
  },
  {
   "cell_type": "code",
   "execution_count": null,
   "metadata": {},
   "outputs": [],
   "source": [
    "from math import *\n",
    "x=int(input())\n",
    "k=sqrt(x)\n",
    "for i in range(2,ceil(k)+1):\n",
    "    print(i)\n",
    "    "
   ]
  },
  {
   "cell_type": "code",
   "execution_count": 1,
   "metadata": {},
   "outputs": [
    {
     "name": "stdout",
     "output_type": "stream",
     "text": [
      "**********"
     ]
    }
   ],
   "source": [
    "import time\n",
    "for i in range(10):\n",
    "    print('*',end=\"\")\n",
    "    time.sleep(0.3)"
   ]
  },
  {
   "cell_type": "code",
   "execution_count": 9,
   "metadata": {},
   "outputs": [],
   "source": [
    "for i in range(2,29):\n",
    "    if (29%i==0):\n",
    "        print(i)"
   ]
  },
  {
   "cell_type": "code",
   "execution_count": 4,
   "metadata": {},
   "outputs": [
    {
     "name": "stdout",
     "output_type": "stream",
     "text": [
      "[[ 4  9 14 19 24]\n",
      " [29 34 39 44 49]\n",
      " [54 59 64 69 74]\n",
      " [79 84 89 94 99]]\n"
     ]
    }
   ],
   "source": [
    "import numpy as np\n",
    "a=np.arange(20).reshape(4,5)\n",
    "a=a*5+4\n",
    "print(a)\n"
   ]
  },
  {
   "cell_type": "code",
   "execution_count": 9,
   "metadata": {},
   "outputs": [
    {
     "name": "stdout",
     "output_type": "stream",
     "text": [
      "7\n",
      "21\n",
      "35\n",
      "49\n",
      "63\n",
      "77\n",
      "91\n"
     ]
    }
   ],
   "source": [
    "for i in range(1,100):\n",
    "    if(i%7==0 and i%2!=0):\n",
    "        print(i)"
   ]
  },
  {
   "cell_type": "code",
   "execution_count": null,
   "metadata": {},
   "outputs": [],
   "source": [
    "def SieveOfEratosthenes(n): \n",
    "      \n",
    "    # Create a boolean array \"prime[0..n]\" and initialize \n",
    "    #  all entries it as true. A value in prime[i] will \n",
    "    # finally be false if i is Not a prime, else true. \n",
    "    prime = [True for i in range(n+1)] \n",
    "    p = 2\n",
    "    while (p * p <= n): \n",
    "          \n",
    "        # If prime[p] is not changed, then it is a prime \n",
    "        if (prime[p] == True): \n",
    "              \n",
    "            # Update all multiples of p \n",
    "            for i in range(p * p, n+1, p): \n",
    "                prime[i] = False\n",
    "        p += 1\n",
    "      \n",
    "    # Print all prime numbers \n",
    "    for p in range(2, n): \n",
    "        if prime[p]: \n",
    "            print (p)\n",
    "  \n",
    "# driver program \n",
    "if __name__=='__main__': \n",
    "    n = 100\n",
    "    print(\"Following are the prime numbers smaller than or equal to\", n) \n",
    "    SieveOfEratosthenes(n) "
   ]
  },
  {
   "cell_type": "code",
   "execution_count": 45,
   "metadata": {},
   "outputs": [
    {
     "name": "stdout",
     "output_type": "stream",
     "text": [
      "[10, 14, 15, 17, 19, 23]\n",
      "Total time = 17.841206550598145\n"
     ]
    }
   ],
   "source": [
    "import math\n",
    "import time\n",
    "s=time.time()\n",
    "l=[]\n",
    "def factors(n):\n",
    "    results = set()\n",
    "    for i in range(1, int(math.sqrt(n)) + 1):\n",
    "        if n % i == 0:\n",
    "            results.add(i)\n",
    "        results.add(int(n/i))\n",
    "    return results\n",
    "x=5\n",
    "for i in range(1,100000):\n",
    "    k=len(factors(i))\n",
    "    if k==x:\n",
    "        l.append(i)\n",
    "print(l)\n",
    "e=time.time()\n",
    "print(\"Total time =\",e-s)"
   ]
  },
  {
   "cell_type": "code",
   "execution_count": 39,
   "metadata": {},
   "outputs": [
    {
     "name": "stdout",
     "output_type": "stream",
     "text": [
      " divisors = 100\n",
      "Runtime of the program is 0.012003421783447266 \n"
     ]
    }
   ],
   "source": [
    "import math\n",
    "import time\n",
    "start = time.time()\n",
    "\n",
    "# function to count the divisors\n",
    "def countDivisors(n):\n",
    "    cnt = 0\n",
    "    l=0\n",
    "    for i in range(1,int(math.sqrt(n))+ 1):\n",
    "        if (n % i == 0):\n",
    "            # If divisors are equal,\n",
    "            # count only one\n",
    "            if (n / i == i):\n",
    "                cnt = cnt + 1\n",
    "            else:  # Otherwise count both\n",
    "                cnt = cnt + 2\n",
    "        # if cnt==x:\n",
    "        #     print(\"#\",i*i,\"#\")\n",
    "        #     print(l)\n",
    "        #     break\n",
    "        # l=l+1\n",
    "    return cnt\n",
    "\n",
    "# Driver program to test above function\n",
    "#x=int(input(\"Enter total factoes\"))\n",
    "print(\" divisors =\",countDivisors(1000000000))\n",
    "end = time.time()\n",
    "print(f\"Runtime of the program is { end - start } \")\n"
   ]
  },
  {
   "cell_type": "code",
   "execution_count": null,
   "metadata": {},
   "outputs": [],
   "source": []
  }
 ],
 "metadata": {
  "kernelspec": {
   "display_name": "Python 3",
   "language": "python",
   "name": "python3"
  },
  "language_info": {
   "codemirror_mode": {
    "name": "ipython",
    "version": 3
   },
   "file_extension": ".py",
   "mimetype": "text/x-python",
   "name": "python",
   "nbconvert_exporter": "python",
   "pygments_lexer": "ipython3",
   "version": "3.8.1"
  }
 },
 "nbformat": 4,
 "nbformat_minor": 4
}

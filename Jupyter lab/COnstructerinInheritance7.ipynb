{
 "cells": [
  {
   "cell_type": "code",
   "execution_count": 7,
   "metadata": {},
   "outputs": [
    {
     "name": "stdout",
     "output_type": "stream",
     "text": [
      "in A init\n"
     ]
    }
   ],
   "source": [
    "# Multiple Inheritance\n",
    "class A: # A is a Super Class of B\n",
    "    def __init__(self):\n",
    "            print(\"in A init\")\n",
    "    def F1(self):\n",
    "        print(\"Feature 1 Working\")\n",
    "    \n",
    "    def F2(self):\n",
    "        print(\"Feature 2 Working\")\n",
    "class B(A):\n",
    "    def F3(self):\n",
    "           print(\"Feature 2 Working\")\n",
    "    def F3(self):\n",
    "           print(\"Feature 2 Working\")\n",
    "\n",
    "a1=B()\n",
    "\n"
   ]
  },
  {
   "cell_type": "code",
   "execution_count": 9,
   "metadata": {},
   "outputs": [
    {
     "name": "stdout",
     "output_type": "stream",
     "text": [
      "in B init\n"
     ]
    }
   ],
   "source": [
    "# Here B has its own init let see\n",
    "class A: # A is a Super Class of B\n",
    "    def __init__(self):\n",
    "            print(\"in A init\")\n",
    "    def F1(self):\n",
    "        print(\"Feature 1 Working\")\n",
    "    \n",
    "    def F2(self):\n",
    "        print(\"Feature 2 Working\")\n",
    "class B(A):\n",
    "    def __init__(self):\n",
    "            print(\"in B init\")\n",
    "    def F3(self):\n",
    "           print(\"Feature 2 Working\")\n",
    "    def F3(self):\n",
    "           print(\"Feature 2 Working\")\n",
    "\n",
    "a1=B()\n",
    "\n"
   ]
  },
  {
   "cell_type": "code",
   "execution_count": 10,
   "metadata": {},
   "outputs": [
    {
     "name": "stdout",
     "output_type": "stream",
     "text": [
      "in A init\n",
      "in B init\n"
     ]
    }
   ],
   "source": [
    "# Special Keyword USe here\n",
    "class A: # A is a Super Class of B\n",
    "    def __init__(self):\n",
    "            print(\"in A init\")\n",
    "    def F1(self):\n",
    "        print(\"Feature 1 Working\")\n",
    "    \n",
    "    def F2(self):\n",
    "        print(\"Feature 2 Working\")\n",
    "class B(A):\n",
    "    def __init__(self):\n",
    "            super().__init__()\n",
    "            print(\"in B init\")\n",
    "    def F3(self):\n",
    "           print(\"Feature 2 Working\")\n",
    "    def F3(self):\n",
    "           print(\"Feature 2 Working\")\n",
    "\n",
    "a1=B()\n",
    "\n"
   ]
  },
  {
   "cell_type": "code",
   "execution_count": 13,
   "metadata": {},
   "outputs": [
    {
     "name": "stdout",
     "output_type": "stream",
     "text": [
      "in A init\n",
      "in C init\n"
     ]
    }
   ],
   "source": [
    "# Special Keyword USe here creates complication as C has 2 super classes\n",
    "class A: # A is a Super Class of B\n",
    "    def __init__(self):\n",
    "            print(\"in A init\")\n",
    "    def F1(self):\n",
    "        print(\"Feature 1 Working\")\n",
    "    \n",
    "    def F2(self):\n",
    "        print(\"Feature 2 Working\")\n",
    "class B:\n",
    "    def __init__(self):\n",
    "            print(\"in B init\")\n",
    "    def F3(self):\n",
    "           print(\"Feature 2 Working\")\n",
    "    def F3(self):\n",
    "           print(\"Feature 2 Working\")\n",
    "class C(A,B):\n",
    "    def __init__(self):\n",
    "        super().__init__()\n",
    "        print(\"in C init\")\n",
    "    \n",
    "a1=C()\n",
    "\n"
   ]
  },
  {
   "cell_type": "code",
   "execution_count": 10,
   "metadata": {},
   "outputs": [
    {
     "name": "stdout",
     "output_type": "stream",
     "text": [
      "in A init\n",
      "in C init\n",
      "Feature 1-B Working\n"
     ]
    }
   ],
   "source": [
    "# Same above procedure can be applied to methods\n",
    "class A: # A is a Super Class of B\n",
    "    def __init__(self):\n",
    "            print(\"in A init\")\n",
    "    def F1(self):\n",
    "        print(\"Feature 1-A Working\")\n",
    "    \n",
    "    def F2(self):\n",
    "        print(\"Feature 2 Working\")\n",
    "class B:\n",
    "    def __init__(self):\n",
    "            print(\"in B init\")\n",
    "    def F3(self):\n",
    "           print(\"Feature 1-B Working\")\n",
    "    def F4(self):\n",
    "           print(\"Feature 4 Working\")\n",
    "class C(A,B):\n",
    "    def __init__(self):\n",
    "        super().__init__()\n",
    "        print(\"in C init\")\n",
    "    \n",
    "a1=C()\n",
    "a1.F3() # It Also goes from left to right\n"
   ]
  },
  {
   "cell_type": "code",
   "execution_count": 12,
   "metadata": {},
   "outputs": [
    {
     "name": "stdout",
     "output_type": "stream",
     "text": [
      "in A init\n",
      "in C init\n",
      "Feature 1-B Working\n",
      "Feature 2 Working\n"
     ]
    }
   ],
   "source": [
    "# Same above procedure can be applied to methods\n",
    "class A: # A is a Super Class of B\n",
    "    def __init__(self):\n",
    "            print(\"in A init\")\n",
    "    def F1(self):\n",
    "        print(\"Feature 1-A Working\")\n",
    "    \n",
    "    def F2(self):\n",
    "        print(\"Feature 2 Working\")\n",
    "class B:\n",
    "    def __init__(self):\n",
    "            print(\"in B init\")\n",
    "    def F3(self):\n",
    "           print(\"Feature 1-B Working\")\n",
    "    def F4(self):\n",
    "           print(\"Feature 4 Working\")\n",
    "class C(A,B):\n",
    "    def __init__(self):\n",
    "        super().__init__()\n",
    "        print(\"in C init\")\n",
    "    def feat1(self):\n",
    "        super().F2()  #Super Method Usage\n",
    "    \n",
    "a1=C()\n",
    "a1.F3()\n",
    "a1.feat1()\n"
   ]
  },
  {
   "cell_type": "code",
   "execution_count": null,
   "metadata": {},
   "outputs": [],
   "source": []
  }
 ],
 "metadata": {
  "kernelspec": {
   "display_name": "Python 3",
   "language": "python",
   "name": "python3"
  },
  "language_info": {
   "codemirror_mode": {
    "name": "ipython",
    "version": 3
   },
   "file_extension": ".py",
   "mimetype": "text/x-python",
   "name": "python",
   "nbconvert_exporter": "python",
   "pygments_lexer": "ipython3",
   "version": "3.8.1"
  }
 },
 "nbformat": 4,
 "nbformat_minor": 4
}

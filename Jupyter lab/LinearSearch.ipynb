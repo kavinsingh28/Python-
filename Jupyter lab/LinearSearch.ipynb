{
 "cells": [
  {
   "cell_type": "code",
   "execution_count": 13,
   "metadata": {},
   "outputs": [
    {
     "name": "stdin",
     "output_type": "stream",
     "text": [
      "Enter the number of Numbers 5\n",
      "Enter Number 9\n",
      "Enter Number 8\n",
      "Enter Number 7\n",
      "Enter Number 6\n",
      "Enter Number 5\n",
      "Enter the number to be searched 6\n"
     ]
    },
    {
     "name": "stdout",
     "output_type": "stream",
     "text": [
      "Found on Position  4\n"
     ]
    }
   ],
   "source": [
    "l=[]\n",
    "m=int(input(\"Enter the number of Numbers\"))\n",
    "for i in range(m):\n",
    "    z=int(input(\"Enter Number\"))\n",
    "    l.append(z)\n",
    "k=int(input(\"Enter the number to be searched\"))\n",
    "m=0\n",
    "for i in range(len(l)): \n",
    "    if l[i]==k:\n",
    "        print(\"Found on Position \",str(i+1))\n",
    "        break\n",
    "    else:\n",
    "        m+=1\n",
    "if(m==1):\n",
    "    print(\"Element Not Found\")"
   ]
  },
  {
   "cell_type": "code",
   "execution_count": 3,
   "metadata": {},
   "outputs": [
    {
     "name": "stdout",
     "output_type": "stream",
     "text": [
      "Found at pos 7\n"
     ]
    }
   ],
   "source": [
    "pos=-1\n",
    "def search(list,n):\n",
    "    i=0\n",
    "    while i<len(list):\n",
    "        if list[i]==n:\n",
    "            globals()['pos']=i\n",
    "            return True\n",
    "        i=i+1\n",
    "    return False\n",
    "list=[1,2,3,4,6,7,8,9,0]\n",
    "n=9\n",
    "if search(list,n):\n",
    "    print(\"Found at pos\",pos)\n",
    "else:\n",
    "    print(\"Not Found\")"
   ]
  },
  {
   "cell_type": "code",
   "execution_count": null,
   "metadata": {},
   "outputs": [],
   "source": []
  }
 ],
 "metadata": {
  "kernelspec": {
   "display_name": "Python 3",
   "language": "python",
   "name": "python3"
  },
  "language_info": {
   "codemirror_mode": {
    "name": "ipython",
    "version": 3
   },
   "file_extension": ".py",
   "mimetype": "text/x-python",
   "name": "python",
   "nbconvert_exporter": "python",
   "pygments_lexer": "ipython3",
   "version": "3.8.1"
  }
 },
 "nbformat": 4,
 "nbformat_minor": 4
}

{
 "cells": [
  {
   "cell_type": "code",
   "execution_count": 7,
   "metadata": {},
   "outputs": [
    {
     "data": {
      "text/plain": [
       "11"
      ]
     },
     "execution_count": 7,
     "metadata": {},
     "output_type": "execute_result"
    }
   ],
   "source": [
    "#Operator Overloading\n",
    "a=5\n",
    "b=6\n",
    "int.__add__(a,b)\n",
    " "
   ]
  },
  {
   "cell_type": "code",
   "execution_count": null,
   "metadata": {},
   "outputs": [],
   "source": [
    "a = '5'\n",
    "b = '6'\n",
    "print(a+b)\n",
    "print(str.__add__(a,b))"
   ]
  },
  {
   "cell_type": "code",
   "execution_count": 34,
   "metadata": {},
   "outputs": [
    {
     "name": "stdout",
     "output_type": "stream",
     "text": [
      "127\n",
      "134\n",
      "s2 wins\n",
      "9\n",
      "(58, 69)\n"
     ]
    }
   ],
   "source": [
    "class student:\n",
    "    def __init__(self,m1,m2):\n",
    "        self.m1=m1\n",
    "        self.m2=m2\n",
    "    def __add__(self,other):\n",
    "        m1=self.m1 + other.m1\n",
    "        m2=self.m2 + other.m2\n",
    "        s3=student(m1,m2)\n",
    "        return s3\n",
    "    def __gt__(self,other): #gt is used for greater than functions\n",
    "        r1=self.m1 + self.m2\n",
    "        r2=other.m1 + other.m2\n",
    "        if r1>r2:\n",
    "            return True\n",
    "        else:\n",
    "            return False\n",
    "    def __str__(self):\n",
    "        return self.m1,self.m2\n",
    "        \n",
    "s1=student(58,69)\n",
    "s2=student(69,65)\n",
    "s3=s1+s2     #student(s1,s2) # self is given s1 and other is given s2\n",
    "print(s3.m1)\n",
    "print(s3.m2)\n",
    "\n",
    "if s1>s2:\n",
    "    print(\"s1 Wins\")\n",
    "else:\n",
    "    print(\"s2 wins\") \n",
    "    \n",
    "a=9\n",
    "print(a.__str__())\n",
    "print(s1.__str__())"
   ]
  },
  {
   "cell_type": "code",
   "execution_count": 41,
   "metadata": {},
   "outputs": [
    {
     "name": "stdout",
     "output_type": "stream",
     "text": [
      "128\n",
      "134\n",
      "s2 wins\n",
      "58 69\n",
      "70 65\n"
     ]
    }
   ],
   "source": [
    "class student:\n",
    "    def __init__(self,m1,m2):\n",
    "        self.m1=m1\n",
    "        self.m2=m2\n",
    "    def __add__(self,other): #When someone says '+' this will be called and it is termed as overloading\n",
    "        m1=self.m1 + other.m1\n",
    "        m2=self.m2 + other.m2\n",
    "        s3=student(m1,m2)\n",
    "        return s3\n",
    "    def __gt__(self,other): #gt is used for greater than functions\n",
    "        r1=self.m1 + self.m2\n",
    "        r2=other.m1 + other.m2\n",
    "        if r1>r2:\n",
    "            return True\n",
    "        else:\n",
    "            return False\n",
    "    def __str__(self):\n",
    "        return '{} {}'.format(self.m1,self.m2)\n",
    "        \n",
    "s1=student(58,69)\n",
    "s2=student(70,65)\n",
    "s3=s1+s2     #student(s1,s2) # self is given s1 and other is given s2\n",
    "print(s3.m1)\n",
    "print(s3.m2)\n",
    "\n",
    "if s1>s2:\n",
    "    print(\"s1 Wins\")\n",
    "else:\n",
    "    print(\"s2 wins\") \n",
    "    \n",
    "a=9\n",
    "#print(a.__str__())\n",
    "print(s1)\n",
    "print(s2)"
   ]
  },
  {
   "cell_type": "code",
   "execution_count": null,
   "metadata": {},
   "outputs": [],
   "source": []
  }
 ],
 "metadata": {
  "kernelspec": {
   "display_name": "Python 3",
   "language": "python",
   "name": "python3"
  },
  "language_info": {
   "codemirror_mode": {
    "name": "ipython",
    "version": 3
   },
   "file_extension": ".py",
   "mimetype": "text/x-python",
   "name": "python",
   "nbconvert_exporter": "python",
   "pygments_lexer": "ipython3",
   "version": "3.8.1"
  }
 },
 "nbformat": 4,
 "nbformat_minor": 4
}

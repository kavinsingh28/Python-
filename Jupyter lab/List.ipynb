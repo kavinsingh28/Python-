{
 "cells": [
  {
   "cell_type": "code",
   "execution_count": null,
   "metadata": {},
   "outputs": [],
   "source": [
    "#create a empty list\n",
    "a=[]\n",
    "#insert integer of range 8\n",
    "k=map(int,input(\"Enter the number\").split(','))\n",
    "a.append(k)\n",
    "#print the list\n",
    "print(a)\n",
    "for i in a:\n",
    "    if i%2==0:\n",
    "        a.remove(i)\n",
    "        break\n",
    "print(a)\n",
    "#remove 1st occurence of ever=n numbers\n",
    "#append 100 at last\n",
    "a.append(100)\n",
    "print(a)\n",
    "a.sort()\n",
    "print(a)\n",
    "a.pop()\n",
    "#Reverse the list\n",
    "a.reverse()\n",
    "print(a)"
   ]
  }
 ],
 "metadata": {
  "kernelspec": {
   "display_name": "Python 3",
   "language": "python",
   "name": "python3"
  },
  "language_info": {
   "codemirror_mode": {
    "name": "ipython",
    "version": 3
   },
   "file_extension": ".py",
   "mimetype": "text/x-python",
   "name": "python",
   "nbconvert_exporter": "python",
   "pygments_lexer": "ipython3",
   "version": "3.8.1"
  }
 },
 "nbformat": 4,
 "nbformat_minor": 4
}

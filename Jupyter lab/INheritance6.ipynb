{
 "cells": [
  {
   "cell_type": "code",
   "execution_count": 8,
   "metadata": {},
   "outputs": [
    {
     "name": "stdout",
     "output_type": "stream",
     "text": [
      "Feature 1 Working\n",
      "Feature 2 Working\n",
      "\n",
      "\n",
      "Feature 1 Working\n",
      "Feature 2 Working\n",
      "Feature 3 Working\n",
      "Feature 4 Working\n"
     ]
    }
   ],
   "source": [
    "# Single Level Inheritance\n",
    "class A: # A is a Super Class of B\n",
    "    def Feature1(self):\n",
    "        print(\"Feature 1 Working\")\n",
    "    \n",
    "    def Feature2(self):\n",
    "        print(\"Feature 2 Working\")\n",
    "class B(A):   # B is a child or sub class of A and we want to inherit feautres of A as well\n",
    "    def Feature3(self):\n",
    "        print(\"Feature 3 Working\")\n",
    "    \n",
    "    def Feature4(self):\n",
    "        print(\"Feature 4 Working\")\n",
    "a1=A() # Here A() is a Constructer\n",
    "a1.Feature1()\n",
    "a1.Feature2()\n",
    "print(\"\\n\")\n",
    "b1=B()\n",
    "b1.Feature1()\n",
    "b1.Feature2()\n",
    "b1.Feature3()\n",
    "b1.Feature4()\n"
   ]
  },
  {
   "cell_type": "code",
   "execution_count": null,
   "metadata": {},
   "outputs": [],
   "source": []
  },
  {
   "cell_type": "code",
   "execution_count": 11,
   "metadata": {},
   "outputs": [
    {
     "name": "stdout",
     "output_type": "stream",
     "text": [
      "Feature 1 Working\n",
      "Feature 2 Working\n",
      "Feature 3 Working\n",
      "Feature 4 Working\n",
      "Feature 5 Working\n"
     ]
    }
   ],
   "source": [
    "# Multilevel Level Inheritance\n",
    "class A: # A is a Super Class of B\n",
    "    def Feature1(self):\n",
    "        print(\"Feature 1 Working\")\n",
    "    \n",
    "    def Feature2(self):\n",
    "        print(\"Feature 2 Working\")\n",
    "class B(A):   # B is a child or sub class of A and we want to inherit feautres of A as well\n",
    "    def Feature3(self):\n",
    "        print(\"Feature 3 Working\")\n",
    "    \n",
    "    def Feature4(self):\n",
    "        print(\"Feature 4 Working\")\n",
    "class C(B):\n",
    "    def Feature5(self):\n",
    "        print(\"Feature 5 Working\")\n",
    "    \n",
    "#a1=A() # Here A() is a Constructer\n",
    "#a1.Feature1()\n",
    "#a1.Feature2()\n",
    "#print(\"\\n\")\n",
    "#b1=B()\n",
    "#b1.Feature1()\n",
    "#b1.Feature2()\n",
    "#b1.Feature3()\n",
    "#b1.Feature4()\n",
    "\n",
    "c1=C()\n",
    "c1.Feature1()\n",
    "c1.Feature2()\n",
    "c1.Feature3()\n",
    "c1.Feature4()\n",
    "c1.Feature5()\n"
   ]
  },
  {
   "cell_type": "code",
   "execution_count": 12,
   "metadata": {},
   "outputs": [
    {
     "name": "stdout",
     "output_type": "stream",
     "text": [
      "Feature 1 Working\n",
      "Feature 2 Working\n",
      "Feature 3 Working\n",
      "Feature 4 Working\n",
      "Feature 5 Working\n"
     ]
    }
   ],
   "source": [
    "# Multiple Inheritance\n",
    "class A: # A is a Super Class of B\n",
    "    def Feature1(self):\n",
    "        print(\"Feature 1 Working\")\n",
    "    \n",
    "    def Feature2(self):\n",
    "        print(\"Feature 2 Working\")\n",
    "class B:   # B is not  a child or sub class of A and we want to inherit feautres of A as well\n",
    "    def Feature3(self):\n",
    "        print(\"Feature 3 Working\")\n",
    "    \n",
    "    def Feature4(self):\n",
    "        print(\"Feature 4 Working\")\n",
    "class C(A,B):\n",
    "    def Feature5(self):\n",
    "        print(\"Feature 5 Working\")\n",
    "    \n",
    "\n",
    "c1=C()\n",
    "c1.Feature1()\n",
    "c1.Feature2()\n",
    "c1.Feature3()\n",
    "c1.Feature4()\n",
    "c1.Feature5()\n"
   ]
  },
  {
   "cell_type": "code",
   "execution_count": null,
   "metadata": {},
   "outputs": [],
   "source": []
  }
 ],
 "metadata": {
  "kernelspec": {
   "display_name": "Python 3",
   "language": "python",
   "name": "python3"
  },
  "language_info": {
   "codemirror_mode": {
    "name": "ipython",
    "version": 3
   },
   "file_extension": ".py",
   "mimetype": "text/x-python",
   "name": "python",
   "nbconvert_exporter": "python",
   "pygments_lexer": "ipython3",
   "version": "3.8.1"
  }
 },
 "nbformat": 4,
 "nbformat_minor": 4
}

{
 "cells": [
  {
   "cell_type": "code",
   "execution_count": null,
   "metadata": {},
   "outputs": [],
   "source": [
    "def factot(n):\n",
    "    l = 0\n",
    "    for k in range(2,n):\n",
    "        if n % k == 0:\n",
    "            l += 1\n",
    "    return l\n",
    "for i in range(600851475143,0,-1):\n",
    "    if (600851475143 % i == 0):\n",
    "        x = factot(i)\n",
    "        if x < 1:\n",
    "            print(i)\n"
   ]
  },
  {
   "cell_type": "code",
   "execution_count": 6,
   "metadata": {},
   "outputs": [
    {
     "name": "stdin",
     "output_type": "stream",
     "text": [
      "Enter the number 600851475143\n"
     ]
    },
    {
     "name": "stdout",
     "output_type": "stream",
     "text": [
      "Not prime\n"
     ]
    }
   ],
   "source": [
    "from math import*\n",
    "x=int(input(\"Enter the number\"))\n",
    "l=0\n",
    "k=int(sqrt(x))\n",
    "for i in range(2,k):\n",
    "    if x%i==0:\n",
    "        l+=1\n",
    "        break\n",
    "if l!=0:\n",
    "    print(\"Not prime\")\n",
    "else:\n",
    "    print(\"Prime\")"
   ]
  },
  {
   "cell_type": "code",
   "execution_count": null,
   "metadata": {},
   "outputs": [],
   "source": [
    "'''def factot(n):\n",
    "    l = 0\n",
    "    for k in range(n, 1, -1):\n",
    "        if n % k == 0:\n",
    "            l += 1\n",
    "    return l'''\n",
    "for i in range(600851475143,0,-1):\n",
    "    if (600851475143 % i == 0):\n",
    "        print(i)\n",
    "        '''x = factot(i)\n",
    "        if x <= 2:\n",
    "            print(i)'''\n"
   ]
  },
  {
   "cell_type": "code",
   "execution_count": null,
   "metadata": {},
   "outputs": [],
   "source": [
    "from math import*\n",
    "for i in range(600851475143,0,-1):\n",
    "    l=0\n",
    "    k=int(sqrt(i))\n",
    "    for j in range(2,k):\n",
    "        if i%j==0:\n",
    "            l+=1\n",
    "            break\n",
    "    if l==0:\n",
    "        if 600851475143%i==0:\n",
    "            print(i)"
   ]
  },
  {
   "cell_type": "code",
   "execution_count": null,
   "metadata": {},
   "outputs": [],
   "source": [
    "def factot(n):\n",
    "    l = 0\n",
    "    for k in range(n, 1, -1):\n",
    "        if n % k == 0:\n",
    "            l += 1\n",
    "    return l\n",
    "for i in range(1,600851475143):\n",
    "    if (600851475143 % i == 0):\n",
    "        x = factot(i)\n",
    "        if x <= 2:\n",
    "            print(i)\n",
    "\n",
    "\n",
    "\n"
   ]
  },
  {
   "cell_type": "code",
   "execution_count": null,
   "metadata": {},
   "outputs": [],
   "source": [
    "def factot(n):\n",
    "    l = 0\n",
    "    for k in range(n, 1, -1):\n",
    "        if n % k == 0:\n",
    "            l += 1\n",
    "    return l\n",
    "for i in range(1,600851475143):\n",
    "    if (600851475143 % i == 0):\n",
    "        x = factot(i)\n",
    "        if x <= 2:\n",
    "            print(i)\n",
    "\n",
    "\n",
    "\n"
   ]
  },
  {
   "cell_type": "code",
   "execution_count": null,
   "metadata": {},
   "outputs": [],
   "source": []
  },
  {
   "cell_type": "code",
   "execution_count": null,
   "metadata": {},
   "outputs": [],
   "source": []
  }
 ],
 "metadata": {
  "kernelspec": {
   "display_name": "Python 3",
   "language": "python",
   "name": "python3"
  },
  "language_info": {
   "codemirror_mode": {
    "name": "ipython",
    "version": 3
   },
   "file_extension": ".py",
   "mimetype": "text/x-python",
   "name": "python",
   "nbconvert_exporter": "python",
   "pygments_lexer": "ipython3",
   "version": "3.8.1"
  }
 },
 "nbformat": 4,
 "nbformat_minor": 4
}

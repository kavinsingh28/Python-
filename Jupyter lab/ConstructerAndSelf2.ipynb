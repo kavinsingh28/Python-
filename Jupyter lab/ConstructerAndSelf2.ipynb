{
 "cells": [
  {
   "cell_type": "code",
   "execution_count": 2,
   "metadata": {},
   "outputs": [
    {
     "name": "stdout",
     "output_type": "stream",
     "text": [
      "93874160\n",
      "93874016\n"
     ]
    }
   ],
   "source": [
    "class Computer:\n",
    "    pass\n",
    "   \n",
    "c1=Computer()\n",
    "c2=Computer()\n",
    "print(id(c1))\n",
    "print(id(c2))"
   ]
  },
  {
   "cell_type": "code",
   "execution_count": 3,
   "metadata": {},
   "outputs": [
    {
     "name": "stdout",
     "output_type": "stream",
     "text": [
      "Kavin\n",
      "Kavin\n"
     ]
    }
   ],
   "source": [
    "class Computer:\n",
    "    def __init__(self):\n",
    "        self.name=\"Kavin\"\n",
    "        self.age=20 \n",
    "\n",
    "c1=Computer()\n",
    "c2=Computer()\n",
    "print(c1.name)\n",
    "print(c2.name)a"
   ]
  },
  {
   "cell_type": "code",
   "execution_count": 5,
   "metadata": {},
   "outputs": [
    {
     "name": "stdout",
     "output_type": "stream",
     "text": [
      "Zaphya\n",
      "Kavin\n"
     ]
    }
   ],
   "source": [
    "class Computer:\n",
    "    def __init__(self):\n",
    "        self.name=\"Kavin\"\n",
    "        self.age=20 \n",
    "\n",
    "c1=Computer()\n",
    "c2=Computer()\n",
    "\n",
    "c1.name=\"Zaphya\"\n",
    "c1.age=12\n",
    "print(c1.name)\n",
    "print(c2.name)"
   ]
  },
  {
   "cell_type": "code",
   "execution_count": 12,
   "metadata": {},
   "outputs": [
    {
     "name": "stdout",
     "output_type": "stream",
     "text": [
      "Zaphya\n",
      "30\n",
      "20\n",
      "Kavin\n"
     ]
    }
   ],
   "source": [
    "class Computer:\n",
    "    def __init__(self):\n",
    "        self.name=\"Kavin\"\n",
    "        self.age=20 \n",
    "        \n",
    "    def Update(self):\n",
    "        self.age=30\n",
    "   \n",
    "        \n",
    "\n",
    "c1=Computer()\n",
    "c2=Computer()\n",
    "\n",
    "c1.name=\"Zaphya\"\n",
    "c1.age=12\n",
    "\n",
    "\n",
    "c1.Update()\n",
    "print(c1.name)\n",
    "print(c1.age)\n",
    "print(c2.age)\n",
    "print(c2.name)"
   ]
  },
  {
   "cell_type": "code",
   "execution_count": 17,
   "metadata": {},
   "outputs": [
    {
     "name": "stdout",
     "output_type": "stream",
     "text": [
      "tHEY ARE dIFFERENT\n",
      "Kavin\n",
      "40\n",
      "20\n",
      "Kavin\n"
     ]
    }
   ],
   "source": [
    "class Computer:\n",
    "    def __init__(self):\n",
    "        self.name=\"Kavin\"\n",
    "        self.age=20 \n",
    "        \n",
    "    def Update(self):\n",
    "        self.age=30\n",
    "    def Compare(self,other): #c1 is self and c2 is other\n",
    "        # cOMPARE TAKES 2 PARAMETER 1 is which to compare 2nd is whom to compare\n",
    "        if self.age==other.age:\n",
    "            return True \n",
    "        else:\n",
    "            return False\n",
    "        \n",
    "\n",
    "c1=Computer()\n",
    "c1.age=40\n",
    "c2=Computer()\n",
    "\n",
    "\n",
    "if c1.Compare(c2):\n",
    "    print(\"Thy are same\")\n",
    "else:\n",
    "    print(\"tHEY ARE dIFFERENT\")\n",
    "\n",
    "print(c1.name)\n",
    "print(c1.age)\n",
    "print(c2.age)\n",
    "print(c2.name)"
   ]
  },
  {
   "cell_type": "code",
   "execution_count": null,
   "metadata": {},
   "outputs": [],
   "source": []
  }
 ],
 "metadata": {
  "kernelspec": {
   "display_name": "Python 3",
   "language": "python",
   "name": "python3"
  },
  "language_info": {
   "codemirror_mode": {
    "name": "ipython",
    "version": 3
   },
   "file_extension": ".py",
   "mimetype": "text/x-python",
   "name": "python",
   "nbconvert_exporter": "python",
   "pygments_lexer": "ipython3",
   "version": "3.8.1"
  }
 },
 "nbformat": 4,
 "nbformat_minor": 4
}

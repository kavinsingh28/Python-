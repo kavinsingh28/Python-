{
 "cells": [
  {
   "cell_type": "code",
   "execution_count": 5,
   "metadata": {},
   "outputs": [
    {
     "name": "stdout",
     "output_type": "stream",
     "text": [
      "Hey its not allowed\n",
      "Bye\n"
     ]
    }
   ],
   "source": [
    "a=5\n",
    "b=0\n",
    "try:\n",
    "    print(a/b)\n",
    "except Exception:\n",
    "    print(\"Hey its not allowed\")\n",
    "    \n",
    "    \n",
    "print(\"Bye\")"
   ]
  },
  {
   "cell_type": "code",
   "execution_count": 6,
   "metadata": {},
   "outputs": [
    {
     "name": "stdout",
     "output_type": "stream",
     "text": [
      "Hey its not allowed division by zero\n",
      "Bye\n"
     ]
    }
   ],
   "source": [
    "a=5\n",
    "b=0\n",
    "try:\n",
    "    print(a/b)\n",
    "except Exception as e:\n",
    "    print(\"Hey its not allowed\",e)\n",
    "    \n",
    "    \n",
    "print(\"Bye\")"
   ]
  },
  {
   "cell_type": "code",
   "execution_count": 12,
   "metadata": {},
   "outputs": [
    {
     "name": "stdout",
     "output_type": "stream",
     "text": [
      "Resource Open\n",
      "2.5\n"
     ]
    },
    {
     "name": "stdin",
     "output_type": "stream",
     "text": [
      "Enter a Number r\n"
     ]
    },
    {
     "name": "stdout",
     "output_type": "stream",
     "text": [
      "Hey its not allowed invalid literal for int() with base 10: 'r'\n",
      "Resource Closed\n",
      "Bye\n"
     ]
    }
   ],
   "source": [
    "a=5\n",
    "b=2\n",
    "try:\n",
    "    print(\"Resource Open\")\n",
    "    print(a/b)\n",
    "    k=int(input(\"Enter a Number\"))\n",
    "except Exception as e:\n",
    "    print(\"Hey its not allowed\",e)\n",
    "finally:\n",
    "    print(\"Resource Closed\")\n",
    "\n",
    "    \n",
    "    \n",
    "print(\"Bye\")"
   ]
  },
  {
   "cell_type": "code",
   "execution_count": null,
   "metadata": {},
   "outputs": [],
   "source": [
    "a=5\n",
    "b=2\n",
    "try:\n",
    "    print(\"Resource Open\")\n",
    "    print(a/b)\n",
    "    k=int(input(\"Enter a Number\"))\n",
    "    print(k)\n",
    "except ZeroDivisionError as e:\n",
    "    print(\"Not allowed\",e)\n",
    "except ValueError as e:\n",
    "    print(\"Invalid\",e)\n",
    "except Exception as e:\n",
    "    print(\"Hey its not allowed\",e)\n",
    "finally:\n",
    "    print(\"Resource Closed\")\n",
    "\n",
    "    \n",
    "    \n",
    "print(\"Bye\")"
   ]
  }
 ],
 "metadata": {
  "kernelspec": {
   "display_name": "Python 3",
   "language": "python",
   "name": "python3"
  },
  "language_info": {
   "codemirror_mode": {
    "name": "ipython",
    "version": 3
   },
   "file_extension": ".py",
   "mimetype": "text/x-python",
   "name": "python",
   "nbconvert_exporter": "python",
   "pygments_lexer": "ipython3",
   "version": "3.8.1"
  }
 },
 "nbformat": 4,
 "nbformat_minor": 4
}

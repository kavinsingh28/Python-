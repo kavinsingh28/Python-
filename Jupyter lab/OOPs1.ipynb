{
 "cells": [
  {
   "cell_type": "code",
   "execution_count": 12,
   "metadata": {},
   "outputs": [
    {
     "name": "stdout",
     "output_type": "stream",
     "text": [
      "<class 'int'>\n",
      "i5,16Gb,1TB\n",
      "i5,16Gb,1TB\n",
      "i5,16Gb,1TB\n",
      "i5,16Gb,1TB\n"
     ]
    },
    {
     "data": {
      "text/plain": [
       "4"
      ]
     },
     "execution_count": 12,
     "metadata": {},
     "output_type": "execute_result"
    }
   ],
   "source": [
    "class Computer:\n",
    "    def Config(self):\n",
    "        print(\"i5,16Gb,1TB\")\n",
    "\n",
    "print(type(a)) #EVERY THING IS OBJEST AS IT IS OF CLASS STR\n",
    "com1=Computer()#Hey Human WAlk (Mukesh)\n",
    "com2=Computer()#hey human walk(Ravi)\n",
    "Computer.Config(com1)\n",
    "Computer.Config(com2)\n",
    "com1.Config()# We can use this also\n",
    "com2.Config()\n",
    "a=10\n",
    "a.bit_length()"
   ]
  },
  {
   "cell_type": "code",
   "execution_count": 8,
   "metadata": {},
   "outputs": [
    {
     "name": "stdout",
     "output_type": "stream",
     "text": [
      "KAvin\n",
      "KAvin\n",
      "i5,16Gb,1TB\n",
      "i5,16Gb,1TB\n"
     ]
    }
   ],
   "source": [
    "class Computer:\n",
    "    def __init__(self):\n",
    "        print(\"KAvin\")\n",
    "    def Config(self):\n",
    "        print(\"i5,16Gb,1TB\")\n",
    "\n",
    "\n",
    "com1 = Computer() #THis will print Kavin which indicates the creation of object\n",
    "com2 = Computer() #THis will print Kavin which indicates the creation of object\n",
    "\n",
    "com1.Config()\n",
    "com2.Config()\n"
   ]
  },
  {
   "cell_type": "code",
   "execution_count": 41,
   "metadata": {},
   "outputs": [
    {
     "name": "stdout",
     "output_type": "stream",
     "text": [
      "Config is  i5 16\n",
      "Config is  Ryzen 3 8\n"
     ]
    }
   ],
   "source": [
    "class Computer:\n",
    "    def __init__(self,cpu,ram):\n",
    "        self.cpu=cpu\n",
    "        self.ram=ram\n",
    "    def Config(self):\n",
    "        print(\"Config is \",self.cpu,self.ram)\n",
    "\n",
    "\n",
    "com1 = Computer('i5',16) #THis will print Kavin which indicates the creation of object\n",
    "com2 = Computer('Ryzen 3',8) #THis will print Kavin which indicates the creation of object\n",
    "\n",
    "com1.Config()\n",
    "com2.Config()\n"
   ]
  },
  {
   "cell_type": "code",
   "execution_count": null,
   "metadata": {},
   "outputs": [],
   "source": []
  },
  {
   "cell_type": "code",
   "execution_count": null,
   "metadata": {},
   "outputs": [],
   "source": []
  }
 ],
 "metadata": {
  "kernelspec": {
   "display_name": "Python 3",
   "language": "python",
   "name": "python3"
  },
  "language_info": {
   "codemirror_mode": {
    "name": "ipython",
    "version": 3
   },
   "file_extension": ".py",
   "mimetype": "text/x-python",
   "name": "python",
   "nbconvert_exporter": "python",
   "pygments_lexer": "ipython3",
   "version": "3.8.1"
  }
 },
 "nbformat": 4,
 "nbformat_minor": 4
}
